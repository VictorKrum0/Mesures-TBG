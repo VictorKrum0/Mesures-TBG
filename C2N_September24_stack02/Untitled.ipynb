{
 "cells": [
  {
   "cell_type": "code",
   "execution_count": 24,
   "id": "710d9655-dcf3-41b0-9122-311ece3bfa26",
   "metadata": {},
   "outputs": [
    {
     "name": "stdout",
     "output_type": "stream",
     "text": [
      "Single sweep will take : \t0 d 0 h 2 min 31 s\n",
      "Voltage sweeping will take : \t0 d 16 h 49 min 11 s\t (32 %)\n",
      "\n",
      "Switch heating will take : \t0 d 6 h 42 min 0 s\t (13 %)\n",
      "Magnet sweeping will take : \t0 d 0 h 40 min 0 s\t (1 %)\n",
      "Going persistent will take : \t1 d 3 h 35 min 53 s\t (53 %)\n",
      "\n",
      "Map dimension : 401 x 151\n",
      "Total time for map : \t\t2 d 3 h 47 min 4 s\n"
     ]
    }
   ],
   "source": [
    "from math import ceil\n",
    "import numpy as np\n",
    "\n",
    "tc      = 0.1 #demodulator time constant, s\n",
    "\n",
    "stopHV  = 50 #V\n",
    "dVHV    = 0.5 #V\n",
    "NHV     = int(stopHV//dVHV + 1)\n",
    "dtHV    = 1\n",
    "\n",
    "startLV = -1.5\n",
    "stopLV  = 1.5\n",
    "dVLV    = 0.02\n",
    "NLV     = ceil(abs(stopLV-startLV)/dVLV + 1) #number of points in the full sweep\n",
    "dtLV    = 10*tc #s\n",
    "\n",
    "startB = 6\n",
    "stopB  = 8\n",
    "dB     = 5e-3\n",
    "NB     = ceil(abs(stopB-startB)/dB + 1) #number of points in the full sweep\n",
    "\n",
    "#Switch on and off the heater + Map itself + Time to go back to 0T + go from 0 at the start and to 0 when stop + Doping contacts\n",
    "single_sweep_time = NLV*dtLV\n",
    "\n",
    "switch_heating_time = NB*60 + 60 # 20s (40s) to switch on (off) the heater\n",
    "magnet_sweep_time   = stopB/0.4*60*2 # two times for the round-trip\n",
    "persistent_time     = np.sum(np.arange(startB,stopB+dB,dB)) / 3.4 * 60 * 2 # Time for going to the persistent current and coming back to 0\n",
    "voltage_sweep_time  = single_sweep_time*NB\n",
    "#voltage_return      = abs(stopLV - startLV) / (0.05/1) * NB #0.05/1 is the sweeping rate\n",
    "\n",
    "total_time = switch_heating_time + magnet_sweep_time + persistent_time + voltage_sweep_time #+ voltage_return\n",
    "\n",
    "#time_str = lambda time_s : str(int(time_s//3600)) + \" h \" + str(int(time_s%3600/60)) + \" min \" + str(int(time_s%60)) + \" s\"\n",
    "time_str = lambda time_s : str(int(time_s//(3600*24))) + \" d \" + str(int(time_s%(3600*24)//3600)) + \" h \" + str(int(time_s%3600/60)) + \" min \" + str(int(time_s%60)) + \" s\"\n",
    "                               \n",
    "print(\"Single sweep will take : \\t\"      + time_str(single_sweep_time))\n",
    "print(\"Voltage sweeping will take : \\t\"  + time_str(voltage_sweep_time)  + f\"\\t ({voltage_sweep_time /total_time*100:.0f} %)\" + \"\\n\")\n",
    "print(\"Switch heating will take : \\t\"    + time_str(switch_heating_time) + f\"\\t ({switch_heating_time/total_time*100:.0f} %)\")\n",
    "print(\"Magnet sweeping will take : \\t\"   + time_str(magnet_sweep_time)   + f\"\\t ({magnet_sweep_time  /total_time*100:.0f} %)\")\n",
    "print(\"Going persistent will take : \\t\"  + time_str(persistent_time)     + f\"\\t ({persistent_time  /total_time*100:.0f} %)\" + \"\\n\")\n",
    "#print(\"Voltage return will take : \\t\"    + time_str(voltage_return)      + f\"\\t ({voltage_return /total_time*100:.0f} %)\" + \"\\n\")\n",
    "print(f\"Map dimension : {NB} x {NLV}\")\n",
    "print(\"Total time for map : \\t\\t\"       + time_str(total_time))"
   ]
  },
  {
   "cell_type": "code",
   "execution_count": null,
   "id": "e82275a2-bf0a-4deb-8c3e-05908f2026ad",
   "metadata": {},
   "outputs": [],
   "source": []
  }
 ],
 "metadata": {
  "kernelspec": {
   "display_name": "Python [conda env:base] *",
   "language": "python",
   "name": "conda-base-py"
  },
  "language_info": {
   "codemirror_mode": {
    "name": "ipython",
    "version": 3
   },
   "file_extension": ".py",
   "mimetype": "text/x-python",
   "name": "python",
   "nbconvert_exporter": "python",
   "pygments_lexer": "ipython3",
   "version": "3.12.7"
  }
 },
 "nbformat": 4,
 "nbformat_minor": 5
}
