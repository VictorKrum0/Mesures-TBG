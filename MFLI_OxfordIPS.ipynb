{
 "cells": [
  {
   "cell_type": "code",
   "execution_count": 1,
   "id": "990e2b16",
   "metadata": {},
   "outputs": [],
   "source": [
    "import numpy as np\n",
    "\n",
    "import qcodes as qc\n",
    "\n",
    "## Multidimensional scanning module\n",
    "from qcodes.dataset import (\n",
    "    LinSweep,\n",
    "    Measurement,\n",
    "    dond,\n",
    "    experiments,\n",
    "    initialise_or_create_database_at,\n",
    "    load_by_run_spec,\n",
    "    load_or_create_experiment,\n",
    "    plot_dataset,\n",
    ")"
   ]
  },
  {
   "cell_type": "code",
   "execution_count": 2,
   "id": "717826aa",
   "metadata": {},
   "outputs": [],
   "source": [
    "from zhinst.qcodes import MFLI\n",
    "\n",
    "mfli = MFLI(serial = \"DEV4451\", host = \"localhost\")\n",
    "mfli.connect_message()"
   ]
  },
  {
   "cell_type": "code",
   "execution_count": 8,
   "id": "0916163b",
   "metadata": {},
   "outputs": [],
   "source": [
    "from qcodes_contrib_drivers.drivers.Oxford.IPS120 import OxfordInstruments_IPS120\n",
    "\n",
    "magnet = OxfordInstruments_IPS120(name = \"OXFORDPSA\", address = \"GPIB2::30::INSTR\", use_gpib = True)\n",
    "magnet.connect_message()"
   ]
  },
  {
   "cell_type": "code",
   "execution_count": 17,
   "id": "af5f6998",
   "metadata": {},
   "outputs": [
    {
     "name": "stderr",
     "output_type": "stream",
     "text": [
      "[OXFORDPSA(OxfordInstruments_IPS120)] Snapshot: Could not update parameter: activity\n"
     ]
    }
   ],
   "source": [
    "magnet.get_all()"
   ]
  },
  {
   "cell_type": "code",
   "execution_count": null,
   "id": "1471498a",
   "metadata": {},
   "outputs": [],
   "source": []
  }
 ],
 "metadata": {
  "kernelspec": {
   "display_name": "Python 3 (ipykernel)",
   "language": "python",
   "name": "python3"
  },
  "language_info": {
   "codemirror_mode": {
    "name": "ipython",
    "version": 3
   },
   "file_extension": ".py",
   "mimetype": "text/x-python",
   "name": "python",
   "nbconvert_exporter": "python",
   "pygments_lexer": "ipython3",
   "version": "3.11.5"
  }
 },
 "nbformat": 4,
 "nbformat_minor": 5
}
